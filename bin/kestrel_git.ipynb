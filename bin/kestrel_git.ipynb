{
 "cells": [
  {
   "cell_type": "code",
   "execution_count": 1,
   "metadata": {},
   "outputs": [],
   "source": [
    "# requirement: python-mysqldb\n",
    "# pip install mysql\n",
    "\n",
    "# Module For Connecting To MySQL database \n",
    "import MySQLdb as dbapi\n",
    "import sys\n",
    "import csv"
   ]
  },
  {
   "cell_type": "code",
   "execution_count": null,
   "metadata": {},
   "outputs": [],
   "source": [
    "# db connection\n",
    "db = dbapi.connect(host='host',user='root',passwd='pw')\n",
    "\n",
    "# Input your QUERY with ';'\n",
    "QUERY=input('Your query is: ') #SELECT * FROM table WHERE condition;\n",
    "\n",
    "# create cursor and QUERY\n",
    "cur = db.cursor()\n",
    "cur.execute(QUERY)\n",
    "result = cur.fetchall()\n",
    "\n",
    "# Create and save to a file\n",
    "f = open('./dbdump0.csv', 'w',newline='')\n",
    "c = csv.writer(f)\n",
    "# Write header\n",
    "c.writerow([i[0] for i in cur.description])\n",
    "for row in result:\n",
    "    c.writerow(row)\n",
    "f.close()\n",
    "print('saved')"
   ]
  },
  {
   "cell_type": "code",
   "execution_count": null,
   "metadata": {},
   "outputs": [],
   "source": []
  }
 ],
 "metadata": {
  "kernelspec": {
   "display_name": "Python [conda env:py3] *",
   "language": "python",
   "name": "conda-env-py3-py"
  },
  "language_info": {
   "codemirror_mode": {
    "name": "ipython",
    "version": 3
   },
   "file_extension": ".py",
   "mimetype": "text/x-python",
   "name": "python",
   "nbconvert_exporter": "python",
   "pygments_lexer": "ipython3",
   "version": "3.6.8"
  }
 },
 "nbformat": 4,
 "nbformat_minor": 4
}
